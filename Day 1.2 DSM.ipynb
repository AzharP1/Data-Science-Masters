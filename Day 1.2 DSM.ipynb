{
 "cells": [
  {
   "cell_type": "code",
   "execution_count": null,
   "id": "9eb21047-1e0e-4a7b-bb09-ec44753a9c5c",
   "metadata": {},
   "outputs": [],
   "source": []
  },
  {
   "cell_type": "code",
   "execution_count": 1,
   "id": "3b6561cd-917b-4b6f-8665-f06c9a5b704c",
   "metadata": {},
   "outputs": [],
   "source": [
    "a=10"
   ]
  },
  {
   "cell_type": "code",
   "execution_count": 2,
   "id": "bbed2345-0ece-4d4a-812d-8aec74de8c44",
   "metadata": {},
   "outputs": [],
   "source": [
    "a='c'"
   ]
  },
  {
   "cell_type": "code",
   "execution_count": 4,
   "id": "ebc8bc7b-e9bb-45bb-bdae-b40e8d6bdb4f",
   "metadata": {},
   "outputs": [
    {
     "data": {
      "text/plain": [
       "str"
      ]
     },
     "execution_count": 4,
     "metadata": {},
     "output_type": "execute_result"
    }
   ],
   "source": [
    "type(a)"
   ]
  },
  {
   "cell_type": "code",
   "execution_count": 7,
   "id": "95429bf5-8547-4097-9537-1eabaa5fb095",
   "metadata": {},
   "outputs": [
    {
     "data": {
      "text/plain": [
       "123"
      ]
     },
     "execution_count": 7,
     "metadata": {},
     "output_type": "execute_result"
    }
   ],
   "source": [
    "int('123')"
   ]
  },
  {
   "cell_type": "code",
   "execution_count": 8,
   "id": "70749d46-9ac1-4a5e-b2e4-e2840daad1c8",
   "metadata": {},
   "outputs": [
    {
     "ename": "ValueError",
     "evalue": "invalid literal for int() with base 10: 'abcd'",
     "output_type": "error",
     "traceback": [
      "\u001b[0;31m---------------------------------------------------------------------------\u001b[0m",
      "\u001b[0;31mValueError\u001b[0m                                Traceback (most recent call last)",
      "Cell \u001b[0;32mIn[8], line 1\u001b[0m\n\u001b[0;32m----> 1\u001b[0m \u001b[38;5;28;43mint\u001b[39;49m\u001b[43m(\u001b[49m\u001b[38;5;124;43m'\u001b[39;49m\u001b[38;5;124;43mabcd\u001b[39;49m\u001b[38;5;124;43m'\u001b[39;49m\u001b[43m)\u001b[49m\n",
      "\u001b[0;31mValueError\u001b[0m: invalid literal for int() with base 10: 'abcd'"
     ]
    }
   ],
   "source": [
    "int('abcd')"
   ]
  },
  {
   "cell_type": "code",
   "execution_count": 9,
   "id": "caa1f3df-607a-4f98-b990-dffd4412e71b",
   "metadata": {},
   "outputs": [
    {
     "name": "stdout",
     "output_type": "stream",
     "text": [
      "Hello world\n"
     ]
    }
   ],
   "source": [
    "print('Hello world')"
   ]
  },
  {
   "cell_type": "code",
   "execution_count": 10,
   "id": "052d2587-a257-4e3c-8dc3-7981f6b820a4",
   "metadata": {},
   "outputs": [
    {
     "name": "stdout",
     "output_type": "stream",
     "text": [
      "123\n"
     ]
    }
   ],
   "source": [
    "print(123)"
   ]
  },
  {
   "cell_type": "code",
   "execution_count": 11,
   "id": "ca7e17e0-6b0a-4bf1-86ed-b76ec33bb09b",
   "metadata": {},
   "outputs": [
    {
     "name": "stdout",
     "output_type": "stream",
     "text": [
      "My age is:  29\n"
     ]
    }
   ],
   "source": [
    "age=29\n",
    "print('My age is: ',age)"
   ]
  },
  {
   "cell_type": "code",
   "execution_count": 14,
   "id": "caa3531f-70df-46bf-aceb-3edd49deb45b",
   "metadata": {},
   "outputs": [
    {
     "name": "stdout",
     "output_type": "stream",
     "text": [
      "my age is: 29\n"
     ]
    }
   ],
   "source": [
    "## f string\n",
    "print(f'my age is: {age}')"
   ]
  },
  {
   "cell_type": "code",
   "execution_count": 16,
   "id": "5446da28-8e1d-4f10-a616-a7f2bf79e814",
   "metadata": {},
   "outputs": [
    {
     "name": "stdout",
     "output_type": "stream",
     "text": [
      "my name is Azhar and age is 29\n"
     ]
    }
   ],
   "source": [
    "## format()\n",
    "name='Azhar'\n",
    "age=29\n",
    "print('my name is {} and age is {}'.format(name,age))"
   ]
  },
  {
   "cell_type": "code",
   "execution_count": 17,
   "id": "474fab50-02ab-4b15-a726-4d6e3b8c00a0",
   "metadata": {},
   "outputs": [
    {
     "name": "stdout",
     "output_type": "stream",
     "text": [
      "my name is 29 and age is Azhar\n"
     ]
    }
   ],
   "source": [
    "print('my name is {} and age is {}'.format(age,name))"
   ]
  },
  {
   "cell_type": "code",
   "execution_count": 18,
   "id": "4cbb2e32-6506-4d32-9f38-0377a712496e",
   "metadata": {},
   "outputs": [
    {
     "name": "stdout",
     "output_type": "stream",
     "text": [
      "my name is Azhar and age is 29\n"
     ]
    }
   ],
   "source": [
    "age=29\n",
    "name='Azhar'\n",
    "print('my name is {} and age is {}'.format(name,age))"
   ]
  },
  {
   "cell_type": "code",
   "execution_count": 19,
   "id": "d63f2668-a0f7-4287-8b99-c08978dcf094",
   "metadata": {},
   "outputs": [
    {
     "name": "stdout",
     "output_type": "stream",
     "text": [
      "my name is 29 and age is Azhar\n"
     ]
    }
   ],
   "source": [
    "print('my name is {} and age is {}'.format(age,name))"
   ]
  },
  {
   "cell_type": "code",
   "execution_count": 20,
   "id": "91cff5cb-764f-455c-a0fe-9c9cf9086fc1",
   "metadata": {},
   "outputs": [
    {
     "name": "stdout",
     "output_type": "stream",
     "text": [
      "my name is Azhar and age is 29\n"
     ]
    }
   ],
   "source": [
    "print('my name is {} and age is {}'.format(name,age))"
   ]
  },
  {
   "cell_type": "code",
   "execution_count": 21,
   "id": "e2ad833b-4bf2-4920-a3a9-50e078e2f81f",
   "metadata": {},
   "outputs": [
    {
     "name": "stdout",
     "output_type": "stream",
     "text": [
      "my name is Azhar and age is 29\n"
     ]
    }
   ],
   "source": [
    "##placeholder\n",
    "print('my name is {firstname} and age is {firstage}'.format(firstname=name,firstage=age))"
   ]
  },
  {
   "cell_type": "code",
   "execution_count": 24,
   "id": "c78207d0-2881-4fbb-aed4-af973fea29ce",
   "metadata": {},
   "outputs": [
    {
     "data": {
      "text/plain": [
       "' My age is 29 and I have completed: my degree of Bcom with the name of Azhar Pathan'"
      ]
     },
     "execution_count": 24,
     "metadata": {},
     "output_type": "execute_result"
    }
   ],
   "source": [
    "name='azhar pathan'\n",
    "age=29\n",
    "degree='bcom'\n",
    "\n",
    "\" My age is 29 and I have completed: my degree of Bcom with the name of Azhar Pathan\""
   ]
  },
  {
   "cell_type": "code",
   "execution_count": 26,
   "id": "b3cbdeb1-3358-4932-acb8-354b94b98d6f",
   "metadata": {},
   "outputs": [
    {
     "name": "stdout",
     "output_type": "stream",
     "text": [
      "My age is 29 and I have completed: my degree bcom with the name of azhar pathan\n"
     ]
    }
   ],
   "source": [
    "print(\"My age is {} and I have completed: my degree {} with the name of {}\".format(age,degree,name))\n"
   ]
  },
  {
   "cell_type": "code",
   "execution_count": 27,
   "id": "bb512b5a-e027-4b24-bc84-3dda86228d87",
   "metadata": {},
   "outputs": [
    {
     "name": "stdout",
     "output_type": "stream",
     "text": [
      "My age is 29 and I have completed: my degree bcom with the name of azhar pathan\n"
     ]
    }
   ],
   "source": [
    "print(f\"My age is {age} and I have completed: my degree {degree} with the name of {name}\")"
   ]
  },
  {
   "cell_type": "markdown",
   "id": "08ab765c-5e87-444f-ad5a-d37005f50dbe",
   "metadata": {},
   "source": [
    "## Control Flow\n",
    "### Decision Making statements"
   ]
  },
  {
   "cell_type": "code",
   "execution_count": 29,
   "id": "fb7c3140-6af7-4848-ba16-c98aa19f691d",
   "metadata": {},
   "outputs": [
    {
     "name": "stdout",
     "output_type": "stream",
     "text": [
      "You are eligible to vote\n"
     ]
    }
   ],
   "source": [
    "## If statements\n",
    "age=18\n",
    "if age>=18:\n",
    "    print(\"You are eligible to vote\")"
   ]
  },
  {
   "cell_type": "code",
   "execution_count": null,
   "id": "bd02afc7-dd61-4f39-a94e-dedc31ae0d65",
   "metadata": {},
   "outputs": [],
   "source": [
    "==,>=,<="
   ]
  },
  {
   "cell_type": "code",
   "execution_count": 41,
   "id": "bf01030d-8aba-454f-8745-4ec71a981478",
   "metadata": {},
   "outputs": [
    {
     "name": "stdout",
     "output_type": "stream",
     "text": [
      "You are not eligible to vote\n"
     ]
    }
   ],
   "source": [
    "## If statements\n",
    "age=17\n",
    "if age<=18:\n",
    "    print(\"You are not eligible to vote\")"
   ]
  },
  {
   "cell_type": "code",
   "execution_count": 34,
   "id": "e81c7b4b-efe9-493d-a8ab-70536a351017",
   "metadata": {},
   "outputs": [
    {
     "data": {
      "text/plain": [
       "True"
      ]
     },
     "execution_count": 34,
     "metadata": {},
     "output_type": "execute_result"
    }
   ],
   "source": [
    "17<18"
   ]
  },
  {
   "cell_type": "code",
   "execution_count": 35,
   "id": "8671ef3f-1cf9-462f-b4a8-829ad74b01f4",
   "metadata": {},
   "outputs": [
    {
     "data": {
      "text/plain": [
       "True"
      ]
     },
     "execution_count": 35,
     "metadata": {},
     "output_type": "execute_result"
    }
   ],
   "source": [
    "18<=18"
   ]
  },
  {
   "cell_type": "code",
   "execution_count": 42,
   "id": "9801213f-6a39-43b5-af3c-7eee2126bcbc",
   "metadata": {},
   "outputs": [
    {
     "name": "stdin",
     "output_type": "stream",
     "text": [
      " Azhar Pathan\n"
     ]
    },
    {
     "data": {
      "text/plain": [
       "'Azhar Pathan'"
      ]
     },
     "execution_count": 42,
     "metadata": {},
     "output_type": "execute_result"
    }
   ],
   "source": [
    "input()"
   ]
  },
  {
   "cell_type": "code",
   "execution_count": 43,
   "id": "abefa7bc-5fa9-482d-908b-bd34b234b3cc",
   "metadata": {},
   "outputs": [
    {
     "name": "stdin",
     "output_type": "stream",
     "text": [
      "Enter the name Azhar Pathan\n"
     ]
    }
   ],
   "source": [
    "name=input('Enter the name')"
   ]
  },
  {
   "cell_type": "code",
   "execution_count": 44,
   "id": "f41ec447-6757-4a46-abcf-60cc362bc874",
   "metadata": {},
   "outputs": [
    {
     "data": {
      "text/plain": [
       "'Azhar Pathan'"
      ]
     },
     "execution_count": 44,
     "metadata": {},
     "output_type": "execute_result"
    }
   ],
   "source": [
    "name"
   ]
  },
  {
   "cell_type": "code",
   "execution_count": 45,
   "id": "3262d475-a932-43f2-a282-3a96a087dc3b",
   "metadata": {},
   "outputs": [
    {
     "name": "stdin",
     "output_type": "stream",
     "text": [
      "Enter the age 29\n"
     ]
    }
   ],
   "source": [
    "age=int(input('Enter the age'))"
   ]
  },
  {
   "cell_type": "code",
   "execution_count": 46,
   "id": "5f87038a-1f89-4b7b-b12b-c8d02f9d814e",
   "metadata": {},
   "outputs": [
    {
     "data": {
      "text/plain": [
       "29"
      ]
     },
     "execution_count": 46,
     "metadata": {},
     "output_type": "execute_result"
    }
   ],
   "source": [
    "age"
   ]
  },
  {
   "cell_type": "code",
   "execution_count": 48,
   "id": "7767da23-3396-4856-8bb2-c8c8b2f2355b",
   "metadata": {},
   "outputs": [
    {
     "data": {
      "text/plain": [
       "int"
      ]
     },
     "execution_count": 48,
     "metadata": {},
     "output_type": "execute_result"
    }
   ],
   "source": [
    "type(age)"
   ]
  },
  {
   "cell_type": "code",
   "execution_count": null,
   "id": "60da03b3-832c-4c15-a05e-9517530e7ae9",
   "metadata": {},
   "outputs": [],
   "source": [
    "##Task\n",
    "## Take a input of age\n",
    "## check weather age >=18 and age<=45\n",
    "## display a message you are young blood"
   ]
  },
  {
   "cell_type": "code",
   "execution_count": 49,
   "id": "fb972a12-a1c4-4148-b560-12de9228ae4a",
   "metadata": {},
   "outputs": [],
   "source": [
    "##Task\n",
    "## Take a input of age\n",
    "## check weather age >=18 and age<=45\n",
    "## display a message you are young blood"
   ]
  },
  {
   "cell_type": "code",
   "execution_count": 50,
   "id": "a34e9989-2d50-4628-a1b9-5d66318bc06f",
   "metadata": {},
   "outputs": [
    {
     "data": {
      "text/plain": [
       "False"
      ]
     },
     "execution_count": 50,
     "metadata": {},
     "output_type": "execute_result"
    }
   ],
   "source": [
    "True and False"
   ]
  },
  {
   "cell_type": "code",
   "execution_count": 59,
   "id": "10a07d28-40c8-4b1a-a627-c9e3d25e798c",
   "metadata": {},
   "outputs": [
    {
     "name": "stdin",
     "output_type": "stream",
     "text": [
      "Enter the age 22\n"
     ]
    },
    {
     "name": "stdout",
     "output_type": "stream",
     "text": [
      "You are young blood\n"
     ]
    }
   ],
   "source": [
    "age=int(input('Enter the age'))\n",
    "if age>=18 and age <=45:\n",
    "    print('You are young blood')"
   ]
  },
  {
   "cell_type": "code",
   "execution_count": 51,
   "id": "e4f5177b-1803-4dbe-bf45-ffb400458f46",
   "metadata": {},
   "outputs": [
    {
     "data": {
      "text/plain": [
       "True"
      ]
     },
     "execution_count": 51,
     "metadata": {},
     "output_type": "execute_result"
    }
   ],
   "source": [
    "22>=18"
   ]
  },
  {
   "cell_type": "code",
   "execution_count": 53,
   "id": "4aa38324-e867-4bd8-9358-12e2972d13f6",
   "metadata": {},
   "outputs": [
    {
     "data": {
      "text/plain": [
       "True"
      ]
     },
     "execution_count": 53,
     "metadata": {},
     "output_type": "execute_result"
    }
   ],
   "source": [
    "22<=45"
   ]
  },
  {
   "cell_type": "code",
   "execution_count": 54,
   "id": "fc2edc8a-c594-420b-9a8b-216eaca5f9e0",
   "metadata": {},
   "outputs": [
    {
     "data": {
      "text/plain": [
       "True"
      ]
     },
     "execution_count": 54,
     "metadata": {},
     "output_type": "execute_result"
    }
   ],
   "source": [
    "22>=18 and 22<=45"
   ]
  },
  {
   "cell_type": "code",
   "execution_count": 60,
   "id": "73e3532b-214d-4da6-a184-3a6e39ab3a44",
   "metadata": {},
   "outputs": [
    {
     "name": "stdin",
     "output_type": "stream",
     "text": [
      "Enter the age 55\n"
     ]
    }
   ],
   "source": [
    "age=int(input('Enter the age'))\n",
    "if age>=18 and age <=45:\n",
    "    print('You are young blood')"
   ]
  },
  {
   "cell_type": "code",
   "execution_count": 62,
   "id": "123648fc-c529-47cd-996d-a005768b36f4",
   "metadata": {},
   "outputs": [
    {
     "name": "stdin",
     "output_type": "stream",
     "text": [
      "Enter the age 56\n"
     ]
    },
    {
     "name": "stdout",
     "output_type": "stream",
     "text": [
      "Thank you for your we will let you know\n"
     ]
    }
   ],
   "source": [
    "## if else statements\n",
    "age=int(input('Enter the age'))\n",
    "if age>=18 and age <=45:\n",
    "    print('You are young blood')\n",
    "else:\n",
    "    print('Thank you for your we will let you know')"
   ]
  },
  {
   "cell_type": "code",
   "execution_count": null,
   "id": "5edf5b67-1926-4fab-a82b-6597d078ecaf",
   "metadata": {},
   "outputs": [],
   "source": [
    "## mall -  input the product price\n",
    "## prduct >1000 rs 20% off\n",
    "## print the product price after removing the discount\n",
    "## prduct <=1000 rs 30% off\n",
    "## print the product price after removing the discount\n"
   ]
  },
  {
   "cell_type": "code",
   "execution_count": 65,
   "id": "c0a08ea8-3d01-4078-b69b-e540626bed77",
   "metadata": {},
   "outputs": [
    {
     "name": "stdin",
     "output_type": "stream",
     "text": [
      "Enter the price 5000\n"
     ]
    },
    {
     "name": "stdout",
     "output_type": "stream",
     "text": [
      "The price of the product is 4000.0\n"
     ]
    }
   ],
   "source": [
    "product_price=int(input('Enter the price'))\n",
    "if product_price>1000:\n",
    "    print('The price of the product is {}'.format(product_price*0.8))\n",
    "else:\n",
    "    print('The price of the product is {}'.format(product_price*0.7))"
   ]
  },
  {
   "cell_type": "code",
   "execution_count": 69,
   "id": "37030e44-d91b-4b9e-b7eb-2f32b2a64403",
   "metadata": {},
   "outputs": [
    {
     "data": {
      "text/plain": [
       "1000.0"
      ]
     },
     "execution_count": 69,
     "metadata": {},
     "output_type": "execute_result"
    }
   ],
   "source": [
    "(20/100)*5000"
   ]
  },
  {
   "cell_type": "code",
   "execution_count": 68,
   "id": "f369c796-4653-43ca-8135-328a3ddf3aec",
   "metadata": {},
   "outputs": [
    {
     "data": {
      "text/plain": [
       "1000"
      ]
     },
     "execution_count": 68,
     "metadata": {},
     "output_type": "execute_result"
    }
   ],
   "source": [
    "int((20/100)*5000)"
   ]
  },
  {
   "cell_type": "code",
   "execution_count": 70,
   "id": "e4224bdf-cfa2-43f5-bb6c-420cd3beec27",
   "metadata": {},
   "outputs": [
    {
     "name": "stdin",
     "output_type": "stream",
     "text": [
      "Enter the price 2000\n"
     ]
    },
    {
     "name": "stdout",
     "output_type": "stream",
     "text": [
      "The price of the product is 1600.0\n"
     ]
    }
   ],
   "source": [
    "product_price=int(input('Enter the price'))\n",
    "if product_price>1000:\n",
    "    print(f'The price of the product is {product_price*0.8}')\n",
    "else:\n",
    "    print('The price of the product is {}'.format(product_price*0.7))"
   ]
  },
  {
   "cell_type": "code",
   "execution_count": null,
   "id": "907fa633-dc40-4571-8fe1-aa291f8ce80e",
   "metadata": {},
   "outputs": [],
   "source": []
  },
  {
   "cell_type": "code",
   "execution_count": null,
   "id": "f11cac18-ffd2-4d09-9f20-9d895abe59f2",
   "metadata": {},
   "outputs": [],
   "source": [
    "## mall -  input the product price\n",
    "## prduct >3000 rs 20% off\n",
    "## price is ==4000 you get a trip to Goa\n",
    "## print the product price after removing the discount\n",
    "## prduct >=2000 rs and >=3000 30% off\n",
    "## print the product price after removing the discount\n",
    "## price ==2999  u will get additional gift\n",
    "## prduct >=1000 rs and >=2000 40% off\n",
    "## print the product price after removing the discount"
   ]
  },
  {
   "cell_type": "code",
   "execution_count": 5,
   "id": "61c552d0-a233-47a6-80f0-b198bc2056aa",
   "metadata": {},
   "outputs": [
    {
     "name": "stdin",
     "output_type": "stream",
     "text": [
      "Enter the price 50\n"
     ]
    },
    {
     "name": "stdout",
     "output_type": "stream",
     "text": [
      "Lets Drink tea\n",
      "I will also be there\n"
     ]
    }
   ],
   "source": [
    "product_price=int(input('Enter the price'))\n",
    "if product_price>3000:\n",
    "    if product_price==4000:\n",
    "        print('Congratulations you get a Goa Trip')\n",
    "    print(f'The price of the product is {product_price*0.8}')\n",
    "elif product_price>=2000 and product_price<=3000:\n",
    "    if product_price==2999:\n",
    "        print('Congratulations you get an additional gift')\n",
    "    print(f'The price of the product is {product_price*0.7}')\n",
    "elif product_price>=100 and product_price<=2000:\n",
    "    print(f'The price of the product is {product_price*0.6}')\n",
    "else:\n",
    "    print('Lets Drink tea')\n",
    "    print('I will also be there')"
   ]
  },
  {
   "cell_type": "code",
   "execution_count": 8,
   "id": "ffd172b8-ffc4-44a3-921c-761c81186573",
   "metadata": {},
   "outputs": [
    {
     "data": {
      "text/plain": [
       "True"
      ]
     },
     "execution_count": 8,
     "metadata": {},
     "output_type": "execute_result"
    }
   ],
   "source": [
    "#comparission operator\n",
    "True==True"
   ]
  },
  {
   "cell_type": "code",
   "execution_count": 4,
   "id": "9340b9de-cf20-44ff-b5ea-d496c69df545",
   "metadata": {},
   "outputs": [
    {
     "name": "stdin",
     "output_type": "stream",
     "text": [
      "Enter the number 1000\n"
     ]
    },
    {
     "name": "stdout",
     "output_type": "stream",
     "text": [
      "Go Home\n"
     ]
    }
   ],
   "source": [
    "## Single statement Suites\n",
    "val=int(input('Enter the number'))\n",
    "if(val<=999):print('Value is less than equal to 999')\n",
    "else:\n",
    "    print('Go Home')"
   ]
  },
  {
   "cell_type": "code",
   "execution_count": null,
   "id": "069dd1f6-5851-425e-bb10-539c016e989d",
   "metadata": {},
   "outputs": [],
   "source": []
  },
  {
   "cell_type": "code",
   "execution_count": null,
   "id": "e4be4d66-fa93-41d0-b9ba-6e3f7a353fa4",
   "metadata": {},
   "outputs": [],
   "source": []
  }
 ],
 "metadata": {
  "kernelspec": {
   "display_name": "Python 3 (ipykernel)",
   "language": "python",
   "name": "python3"
  },
  "language_info": {
   "codemirror_mode": {
    "name": "ipython",
    "version": 3
   },
   "file_extension": ".py",
   "mimetype": "text/x-python",
   "name": "python",
   "nbconvert_exporter": "python",
   "pygments_lexer": "ipython3",
   "version": "3.10.8"
  }
 },
 "nbformat": 4,
 "nbformat_minor": 5
}
